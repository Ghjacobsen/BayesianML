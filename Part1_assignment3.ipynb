{
 "cells": [
  {
   "cell_type": "code",
   "execution_count": 1,
   "id": "23c9796e",
   "metadata": {},
   "outputs": [],
   "source": [
    "# Initialize task.\n",
    "import jax.numpy as jnp\n",
    "import numpy as np\n",
    "import matplotlib.pyplot as plt\n",
    "import seaborn as snb\n",
    "import matplotlib.colors as colors\n",
    "from scipy.stats import norm\n",
    "from scipy.optimize import minimize\n",
    "from jax import hessian\n",
    "\n",
    "snb.set_theme(font_scale=1.25)\n",
    "\n",
    "# Load Data\n",
    "\n",
    "data = jnp.load('./data_exercise5b.npz')\n",
    "X = data['day']\n",
    "y = np.log(data['bike_count'])\n",
    "\n",
    "#Standardize data\n",
    "ym, ys = jnp.mean(y), jnp.std(y)\n",
    "y = (y - ym) / ys"
   ]
  },
  {
   "cell_type": "markdown",
   "id": "a3f17b7b",
   "metadata": {},
   "source": [
    "## Part 1: Fully Bayesian inference for Gaussian process regression "
   ]
  },
  {
   "cell_type": "markdown",
   "id": "b98ba6c2",
   "metadata": {},
   "source": [
    "**Task 1.1 Choose a value for $\\textit{v}$ such that the prior probability of observing a lengthscale larger than 100 is approximately $1\\%$**\n",
    "\n",
    "First, we identify that our lengthscale parameter follows af half normal distribution \n",
    "\n",
    "\\begin{equation*}\n",
    "    \\ell \\sim \\mathcal{N}_+(0,v)\n",
    "\\end{equation*}\n",
    "\n",
    "We know the condition we need to fulfill is\n",
    "\n",
    "\\begin{equation*}\n",
    "    P(\\ell > 100) \\approx 0.01\n",
    "\\end{equation*}\n",
    "\n",
    "We can express our distribution $\\ell = |Z\\sqrt{v}|$ with $Z$ being a standard normal variable, since $\\ell$ is a half normal. Since the standard normal distribution is symmetric we view it as a two-tailed probability.\n",
    "\n",
    "\\begin{align*}\n",
    "P(\\ell > 100) = P(|Z\\sqrt{v}| > 100) &\\approx 0.01 \\\\\n",
    "P(|Z| > \\frac{100}{\\sqrt{v}}) &\\approx 0.01 \\hspace{2cm} (\\text{Two-tailed}) \\\\\n",
    "2 \\cdot P(\\frac{Z > 100}{ \\sqrt{v}}) &\\approx 0.01 \\\\\n",
    "P(\\frac{Z > 100}{ \\sqrt{v}}) &\\approx 0.005\\\\\n",
    "\\Rightarrow v = \\left(\\frac{100}{z_{0.005}} \\right)^2 = 1507.18 &\\approx 1507 \n",
    "\\end{align*}\n"
   ]
  },
  {
   "cell_type": "markdown",
   "id": "a79f17d5",
   "metadata": {},
   "source": [
    "So when $v \\approx 1507$ the probability of the lengthscale parameter being above 100 will be roughly 1%"
   ]
  },
  {
   "cell_type": "markdown",
   "id": "fcb01d27",
   "metadata": {},
   "source": [
    "**Task 1.2 Determine the marginalized distribution $p(y,\\sigma, k, \\ell)$**"
   ]
  },
  {
   "cell_type": "markdown",
   "id": "fe290c5f",
   "metadata": {},
   "source": [
    "The joint distribution is as follows\n",
    "$$\n",
    "\\begin{align*} p(\\boldsymbol{y}, f, \\sigma, \\kappa, \\ell) & =p\\left(y \\mid \\boldsymbol{f}, \\sigma^2\\right) p(f \\mid \\kappa, \\ell) p(\\kappa) p(\\ell) p(\\sigma) \\\\ & =\\mathcal{N}\\left(\\boldsymbol{y} \\mid \\boldsymbol{f}, \\sigma^2 \\boldsymbol{I}\\right) \\mathcal{N}(\\boldsymbol{f} \\mid \\mathbf{0}, \\boldsymbol{K}) \\mathcal{N}_{+}(\\kappa \\mid 0,1) \\mathcal{N}_{+}(\\ell \\mid 0, v) \\mathcal{N}_{+}(\\sigma \\mid 0,1).\n",
    "\\end{align*}\n",
    "$$\n"
   ]
  },
  {
   "cell_type": "markdown",
   "id": "62aebe19",
   "metadata": {},
   "source": [
    "Denoting $\\mathcal{N}_{+}(\\kappa \\mid 0,1) \\mathcal{N}_{+}(\\ell \\mid 0, v) \\mathcal{N}_{+}(\\sigma \\mid 0,1) = p(\\kappa,\\ell,\\sigma)$ we get the following for marginalising out $f$ from the joint distribution:\n",
    "$$\n",
    "\\begin{align*}\n",
    "p(\\boldsymbol{y}, \\sigma, \\kappa, \\ell) \n",
    "&= \n",
    "\\int p(\\boldsymbol{y}, f, \\sigma, \\kappa, \\ell)\\ \\text{d}f \\\\\n",
    "&= \n",
    "p(\\kappa,\\ell,\\sigma)\n",
    "\\underbrace{\\int \\mathcal{N}\\left(\\boldsymbol{y} \\mid \\boldsymbol{f}, \\sigma^2 \\boldsymbol{I}\\right) \\mathcal{N}(\\boldsymbol{f} \\mid \\mathbf{0}, \\boldsymbol{K})\\ \\text{d}f}_{\\text{Marginal likelihood = linear Gaussian system}} \\\\\n",
    "&=\n",
    "p(\\kappa,\\ell,\\sigma) \\mathcal{N}(\\boldsymbol{y} \\mid \\mathbf{0}, \\boldsymbol{K} + \\sigma^2 \\boldsymbol{I})\n",
    "\\end{align*}\n",
    "$$\n"
   ]
  },
  {
   "cell_type": "markdown",
   "id": "0fc1993b",
   "metadata": {},
   "source": [
    "**Task 1.3: Implement a Metropolis sampler using the proposal distribution**"
   ]
  },
  {
   "cell_type": "markdown",
   "id": "69c14459",
   "metadata": {},
   "source": []
  }
 ],
 "metadata": {
  "kernelspec": {
   "display_name": "base",
   "language": "python",
   "name": "python3"
  },
  "language_info": {
   "codemirror_mode": {
    "name": "ipython",
    "version": 3
   },
   "file_extension": ".py",
   "mimetype": "text/x-python",
   "name": "python",
   "nbconvert_exporter": "python",
   "pygments_lexer": "ipython3",
   "version": "3.12.3"
  }
 },
 "nbformat": 4,
 "nbformat_minor": 5
}
