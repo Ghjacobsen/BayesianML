{
 "cells": [
  {
   "cell_type": "code",
   "execution_count": 5,
   "metadata": {},
   "outputs": [
    {
     "ename": "ModuleNotFoundError",
     "evalue": "No module named 'scipy'",
     "output_type": "error",
     "traceback": [
      "\u001b[1;31m---------------------------------------------------------------------------\u001b[0m",
      "\u001b[1;31mModuleNotFoundError\u001b[0m                       Traceback (most recent call last)",
      "Cell \u001b[1;32mIn[5], line 1\u001b[0m\n\u001b[1;32m----> 1\u001b[0m \u001b[38;5;28;01mfrom\u001b[39;00m\u001b[38;5;250m \u001b[39m\u001b[38;5;21;01mscipy\u001b[39;00m\u001b[38;5;21;01m.\u001b[39;00m\u001b[38;5;21;01mstats\u001b[39;00m\u001b[38;5;250m \u001b[39m\u001b[38;5;28;01mimport\u001b[39;00m binom \u001b[38;5;28;01mas\u001b[39;00m binom_dist\n",
      "\u001b[1;31mModuleNotFoundError\u001b[0m: No module named 'scipy'"
     ]
    }
   ],
   "source": [
    "from scipy.stats import binom as binom_dist"
   ]
  },
  {
   "cell_type": "markdown",
   "metadata": {},
   "source": [
    "Part 1:\n",
    "\n",
    "We record following data Customers: $N = 115$, Customers with purchase: $y = 4$, we want to deduce the probability that at least one of the next 20 Customers : $N^* = 20$ makes a purchase.\n",
    "\n",
    "We define the following distributions\n",
    "\n",
    "\\begin{align}\n",
    "\n",
    "\\theta &\\sim Beta(a_0,b_0) \\\\\n",
    "y \\vert \\theta &\\sim Binomial(N,\\theta)\n",
    "\n",
    "\\end{align}\n",
    "\n",
    "we now that $a_0 =  b_0 = 1$, so the prior is given as the $\\theta \\sim Uniform(0,1)$\n",
    "\n",
    "$\\textbf{Task 1.1}$ Compute the prior mean of $\\theta$ and provide a 95% credibilty interval for the prior:\n",
    "\n",
    "We could deduce that the prior is uniformly distributed where the mean is found by the following\n",
    "\\begin{equation*}\n",
    "\\mathbb{E}(\\theta) = \\frac{a}{a+b} = \\frac{1}{1+1} = \\frac{1}{2}\n",
    "\\end{equation*}\n",
    "\n",
    "When we are dealing with a uniform prior the credibility interval would simply quivalent to 95% of the possible outcomes within the distribution between 0 and 1 centered around the mean, thus the credibility interval becomes\n",
    "\n",
    "\\begin{equation*}\n",
    "(0.025, 0.975)\n",
    "\\end{equation*}\n",
    "\n",
    "$\\textbf{Task 1.2}$ Compute the posterior mean of $\\theta$ and provide a 95% credibility interval for the posterior\n",
    "\n",
    "We can start of by writing up our binomial likelihood PMF function\n",
    "\n",
    "\\begin{equation}\n",
    "p(y \\vert \\theta) = \\binom{115}{4}p^4(1-p)^{115-4}\n",
    "\\end{equation}\n",
    "\n",
    "We know that the Beta distribution is conjugate on the likelihood which means our posterior distribution will follow the same distribution as our prior.\n",
    "\n",
    "Our posterior is then given as \n",
    "\n",
    "\\begin{align}\n",
    "p(\\theta \\vert y, N) &= Beta(a + y, b + N - y) \\\\\n",
    "p(\\theta \\vert y, N) &= Beta(5,112)\n",
    "\\end{align}\n",
    "\n",
    "We find the mean in the same way we found the mean for the Beta distribution in Task 1.1\n",
    "\n",
    "\\begin{equation*}\n",
    " \\mathbb{E}(\\theta \\vert y, N) = \\frac{5}{5+112} = \\frac{5}{117} \\approx 0.043\n",
    "\\end{equation*}\n",
    "\n",
    "We use a snippet of the python code from handout 1 in order to determine the credibility interval\n",
    "\n"
   ]
  },
  {
   "cell_type": "code",
   "execution_count": 2,
   "metadata": {},
   "outputs": [
    {
     "ename": "NameError",
     "evalue": "name 'beta_dist' is not defined",
     "output_type": "error",
     "traceback": [
      "\u001b[1;31m---------------------------------------------------------------------------\u001b[0m",
      "\u001b[1;31mNameError\u001b[0m                                 Traceback (most recent call last)",
      "Cell \u001b[1;32mIn[2], line 1\u001b[0m\n\u001b[1;32m----> 1\u001b[0m theta_lower, theta_upper \u001b[38;5;241m=\u001b[39m \u001b[43mbeta_dist\u001b[49m\u001b[38;5;241m.\u001b[39minterval(interval_size\u001b[38;5;241m/\u001b[39m\u001b[38;5;241m100\u001b[39m, a\u001b[38;5;241m=\u001b[39m\u001b[38;5;241m5\u001b[39m, b\u001b[38;5;241m=\u001b[39m\u001b[38;5;241m112\u001b[39m)\n\u001b[0;32m      2\u001b[0m \u001b[38;5;28mprint\u001b[39m(\u001b[38;5;124mf\u001b[39m\u001b[38;5;124m'\u001b[39m\u001b[38;5;124m95%-credibility interval: [\u001b[39m\u001b[38;5;132;01m{\u001b[39;00mtheta_lower\u001b[38;5;132;01m:\u001b[39;00m\u001b[38;5;124m3.2f\u001b[39m\u001b[38;5;132;01m}\u001b[39;00m\u001b[38;5;124m-\u001b[39m\u001b[38;5;132;01m{\u001b[39;00mtheta_upper\u001b[38;5;132;01m:\u001b[39;00m\u001b[38;5;124m3.2f\u001b[39m\u001b[38;5;132;01m}\u001b[39;00m\u001b[38;5;124m]\u001b[39m\u001b[38;5;124m'\u001b[39m)\n",
      "\u001b[1;31mNameError\u001b[0m: name 'beta_dist' is not defined"
     ]
    }
   ],
   "source": [
    "theta_lower, theta_upper = beta_dist.interval(interval_size/100, a=5, b=112)\n",
    "print(f'95%-credibility interval: [{theta_lower:3.2f}-{theta_upper:3.2f}]')"
   ]
  },
  {
   "cell_type": "code",
   "execution_count": null,
   "metadata": {},
   "outputs": [],
   "source": []
  },
  {
   "cell_type": "markdown",
   "metadata": {},
   "source": [
    "Part 2: "
   ]
  },
  {
   "cell_type": "markdown",
   "metadata": {},
   "source": [
    "In part 2 we will be working with Linear Gaussian systems.\n",
    "\n",
    "We let $z_1,z_2 \\in \\mathbb{R^2}$, and $y \\in \\mathbb{R}$ be random variables and we consider the following system\n",
    "\n",
    "\\begin{align}\n",
    "\n",
    "z_1 &\\sim \\mathcal{N}(0,vI) \\\\\n",
    "z_2 \\vert z_1 &\\sim \\mathcal{N}(z_1,vI) \\\\\n",
    "y \\vert z_2 &\\sim \\mathcal{N}(a^Tz_2,\\sigma^2)\n",
    "\n",
    "\\end{align}\n",
    "\n",
    "where $a \\in \\mathbb{R^2}$ is constant. The joint distribution of $(z_1, z_2, y)$ is given by\n",
    "\n",
    "\\begin{equation}\n",
    "p(y,z_1,z_2) = p(y \\vert z_2)p(z_2 \\vert z_1) p(z_1) \n",
    "\\end{equation}\n",
    "\n"
   ]
  },
  {
   "cell_type": "markdown",
   "metadata": {},
   "source": [
    "Lets try and put some words on the information provided here, for instance we can see that the distribution of $z_2|z_1$ is dependent on $z_1$, and that $z_1$ it self is independent\n",
    "\n",
    "y is conditionally independent on z_1 given z_2 (forstå), det er så snart z_2 er gevet så kender vi jo y uden at skulle bruge z_1\n",
    "\n",
    "Formuler mere om det her ^^\n"
   ]
  },
  {
   "cell_type": "markdown",
   "metadata": {},
   "source": [
    "$ \\textbf{Task 2.1}$ Determine the distribution $p(y)$\n",
    "\n",
    "We start by wanting to compute $p(z_2)$ first, this is because we want to utilise this equation\n",
    "\n",
    "\\begin{equation}\n",
    "\n",
    "p(y) = \\int p(y \\vert z_2) p(z_2)dz_2\n",
    "\n",
    "\\end{equation}\n"
   ]
  },
  {
   "cell_type": "markdown",
   "metadata": {},
   "source": [
    "We make use of both the Conditional rule and the Sum rule where we have the following \n",
    "\\begin{align} \n",
    "P(b) &= \\int p(a, b) da \\\\\n",
    "p(a \\vert b) &= \\frac{p(a, b)}{p(b)}\n",
    "\\end{align}\n",
    "\n",
    "This means that we can do this manipulation\n",
    "\n",
    "\\begin{align*}\n",
    "p(z_2 \\vert z_1) &= \\frac{p(z_2, z_1) }{p(z_2)} \\\\\n",
    "\n",
    "p(z_2, z_1) &= p(z_2 \\vert z_1) p(z_2)\n",
    "\n",
    "\\end{align*}\n",
    "\n",
    "This expression can be substitued into the sum rule, and now we want to marginalize out the $z_1$ factor so we are left with the $z_2$ distribution\n",
    "\n",
    "\\begin{equation*}\n",
    "p(z_2) = \\int p(z_2 | z_1) p(z_1) dz_1\n",
    "\\end{equation*}\n",
    "\n",
    "We now take advantage of the fact that the sum rule for gaussians simply entitle adding the two means and the two variances of the distribution (tjek)\n",
    "\n",
    "We remember the definiton of these distributions in (2) and (3), and we can then conclude our distribution for $z_2$ should follow this\n",
    "\n",
    "\\begin{equation}\n",
    "        p(z_2) \\sim \\mathcal{N}(0 + z_1, vI + vI) = \\mathcal{N}(z_1, 2vI) = \\mathcal{N}(0,2vI)\n",
    "\\end{equation}\n",
    "\n",
    "Here the mean is of course zero since we know the mean of z_1 is 0.\n",
    "\n",
    "Now we can determine equation (1), with the same procedure\n",
    "\n",
    "\\begin{align}\n",
    "    p(y)  &\\sim \\mathcal{N}(a^Tz_2 + 0, \\sigma^2 + 2vI) \\\\\n",
    "          &\\sim a^T \\cdot \\mathcal{N}(z_2, \\sigma^2 + 2vI) \\\\\n",
    "          &\\sim \\mathcal{N}(0, a^T \\sigma^2 + 2va^T)\n",
    "\\end{align}"
   ]
  },
  {
   "cell_type": "markdown",
   "metadata": {},
   "source": [
    "$\\textbf{Task 2.2 }$ Determine the distribution $p(y,z_2 | z_1)$\n",
    "\n",
    "We use the rules of conditional independence to determine this joint distribution. Lets start by using the chain rule of probability so we can rewrite\n",
    "\n",
    "\\begin{equation}\n",
    "\n",
    "p(y,z_2 | z_1) = p(y|z_2,z_1)p(z_2 \\vert z_1) \n",
    "\n",
    "\\end{equation}\n",
    "\n",
    "Here we see that when the distribution $p(z_2)$ is given or known then $y$ will be independent on $p(z_1)$, thus we can remove that part of the equation and we get the following\n",
    "\n",
    "\\begin{equation*}\n",
    "\n",
    "p(y|z_2,z_1) = p(y|z_2)\n",
    "\n",
    "\\end{equation*}\n",
    "\n",
    "This updates our expression for (1) and we get\n",
    "\n",
    "\\begin{equation}\n",
    "\n",
    "p(y,z_2 | z_1) = p(y|z_2)p(z_2 \\vert z_1) \n",
    "\n",
    "\\end{equation}\n",
    "\n",
    "When we multiply two gaussians we get a two-dimensional gaussian distribution, so our mean vector will consist of the means of $y$ and $z_2$, and our covariance matrix include the covariance between and the individual variances.\n",
    "\n",
    "\\begin{equation*}\n",
    "\n",
    "\\mathcal{N}(\\begin{bmatrix} Mean(y) \\\\ Mean(z_2) \\end{bmatrix} , \\begin{bmatrix} Var(y) & Cov(y,z_2) \\\\ Cov(y,z_2) & Var(z_2) \\end{bmatrix})\n",
    "\n",
    "\\end{equation*}\n",
    "\n",
    "Here we see that the only value we are missing in order to plug in our distribution is the covariance. Covariance between $y$ and $z_2$ is given by the following equation (forklar lige hvorfor man kan indsætte det der på y) og når vi trækker a^T ud hvorfor bliver transposering så på ledet?\n",
    "\n",
    "\n",
    "\\begin{align}\n",
    "\n",
    "Cov(y, z_2) &= \\mathbb{E}[(y-\\mathbb{E[y]})(z_2-\\mathbb{E}[z_2])^T] \\\\\n",
    "            &= \\mathbb{E}[(a^Tz_2-a^Tz_1)(z_2-z_1)^T] \\\\\n",
    "            &= a^T \\cdot \\mathbb{E}[(z_2 - z_1)(z_2-z_1)^T] \\\\\n",
    "            &= \n",
    "\\end{align}\n",
    "\n",
    "\n",
    "\n",
    "\n"
   ]
  },
  {
   "cell_type": "markdown",
   "metadata": {},
   "source": []
  },
  {
   "cell_type": "markdown",
   "metadata": {},
   "source": []
  }
 ],
 "metadata": {
  "kernelspec": {
   "display_name": "base",
   "language": "python",
   "name": "python3"
  },
  "language_info": {
   "codemirror_mode": {
    "name": "ipython",
    "version": 3
   },
   "file_extension": ".py",
   "mimetype": "text/x-python",
   "name": "python",
   "nbconvert_exporter": "python",
   "pygments_lexer": "ipython3",
   "version": "3.12.6"
  }
 },
 "nbformat": 4,
 "nbformat_minor": 2
}
