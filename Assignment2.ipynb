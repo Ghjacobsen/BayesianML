{
 "cells": [
  {
   "cell_type": "code",
   "execution_count": 1,
   "metadata": {},
   "outputs": [],
   "source": [
    "import jax.numpy as jnp\n",
    "import numpy as np\n",
    "import math\n",
    "import matplotlib.pyplot as plt\n",
    "import seaborn as snb\n",
    "from scipy.special import gammaln\n",
    "from jax.scipy.special import beta as beta_func\n",
    "from scipy.stats import beta as beta_dist\n",
    "\n",
    "snb.set_theme(font_scale=1.25)"
   ]
  },
  {
   "cell_type": "markdown",
   "metadata": {},
   "source": [
    "## **Group 13**\n",
    "- **Mikkel Agerbo Essendrop, s194157**\n",
    "- **Anton Mosquera Storgaard, s214611**\n",
    "- **Gustav Hylsberg Jacobsen, s214374**\n",
    "\n",
    "All group members share equal responsibility for all three parts of this assignment. The work presented here represents a collective effort, and each member has contributed to understanding and completing the tasks.\n"
   ]
  },
  {
   "cell_type": "markdown",
   "metadata": {},
   "source": [
    "## Part 1: Gaussian process and covariance functions\n",
    "\n",
    "in this part, we will study covariance functions for Gaussian process models. We will consider the following 6 covariance functions.\n",
    "\n",
    "\\begin{align}\n",
    "k_1(x,x') &= 2 \\exp\\left(-\\frac{(x-x')^2}{2 \\cdot 0.3^2}\\right) \\\\\n",
    "k_2(x, x') &=  \\exp\\left(-\\frac{(x-x')^2}{2 \\cdot 0.1^2}\\right) \\\\\n",
    "k_3(x,x') &= 4 + 2xx' \\\\\n",
    "k_4(x,x') &= \\exp \\left(-2 \\sin (3 \\pi \\cdot \\vert x-x' \\vert )^2 \\right) \\\\\n",
    "k_5(x,x') &= \\exp \\left(-2 \\sin (3 \\pi \\cdot \\vert x-x' \\vert )^2 \\right) + 4xx' \\\\\n",
    "k_6(x,x') &= \\frac{1}{5} + \\min(x,x')\n",
    "\\end{align}\n",
    "\n",
    "$\\textbf{Task 1.1}$ Determine the analytical marginal prior mean and variance of a Gaussian process $f_i(x) \\sim \\mathcal{GP}(0,k_i(x,x'))$ \n",
    "\n",
    "This information can be obtained by computing the mean $\\mathbb{E}[f_i(x)]$ and variance $\\mathbb{V}[f_i(x)]$ for the six covariance functions. It is already given to us that the mean function $m(x)$ is 0 in all instances. Thus we have obtained the mean of the prior, lets now calculate the variance for them all. \n",
    "The variance is defined as the case where $x' = x$. We substitue that in all our GP's.\n",
    "\n",
    "\\begin{align}\n",
    "k_1(x,x) &= 2 \\exp\\left(-\\frac{(x-x)^2}{2 \\cdot 0.3^2}\\right) = 2 \\cdot \\exp ^0 &= 2 \\\\\n",
    "k_2(x,x) &=  \\exp\\left(-\\frac{(x-x)^2}{2 \\cdot 0.1^2}\\right) = 1 \\cdot \\exp ^0 &= 1 \\\\\n",
    "k_3(x,x) &= 4 + 2xx &= 4 + 2x ^2 \\\\\n",
    "k_4(x,x) &= \\exp \\left(-2 \\sin (3 \\pi \\cdot \\vert x-x \\vert )^2 \\right) = \\exp ^{(-2 \\cdot \\sin(0) ^2)} &= 1 \\\\\n",
    "k_5(x,x) &= \\exp \\left(-2 \\sin (3 \\pi \\cdot \\vert x-x \\vert )^2 \\right) + 4xx  = \\exp ^{(-2 \\cdot \\sin(0) ^2)} + 4x^2  &= 1 + 4x^2  \\\\\n",
    "k_6(x,x) &= \\frac{1}{5} + \\min(x,x) &= \\frac{1}{5} + x\n",
    "\\end{align}\n",
    "\n",
    "$\\textbf{Task 1.2}$ Which of the six covariance functions are stationary functions?\n",
    "\n",
    "A covariance function is stationary if it depends only on the difference between two points in its domain. That means if all expresions include the term $x-x'$. In our case we see that $k_1, k_2 and k_4$ would then be stationary where as the remaining 3 are not.\n",
    "\n",
    "$\\textbf{Task 1.3}$ Let $X = \\{x_i\\}^{100}_{i=1}$ be a sorted set of equidistant point in the interval [0,2]. For each of the six covariance functione sample function values for the covariance matrices evaluated at X.\n"
   ]
  },
  {
   "cell_type": "code",
   "execution_count": null,
   "metadata": {},
   "outputs": [
    {
     "data": {
      "image/png": "[encoded data removed]",
      "text/plain": [
       "<Figure size 640x480 with 1 Axes>"
      ]
     },
     "metadata": {},
     "output_type": "display_data"
    }
   ],
   "source": [
    "#X is 100 datapoints with equidistant points between 0 and 2\n",
    "X = jnp.linspace(0, 2, 100)\n",
    "\n",
    "#k_0, k_1, k_2 Er større eller ligmed 0.\n",
    "\n",
    "k_7 = k_0 ** 2 + k_1 **2 *x*x_delta + k_2 ** 2 * jnp.exp(jnp.linalg.norm(x-x_delta)\n",
    "\n",
    "\n"
   ]
  },
  {
   "cell_type": "markdown",
   "metadata": {},
   "source": []
  }
 ],
 "metadata": {
  "kernelspec": {
   "display_name": "venv",
   "language": "python",
   "name": "python3"
  },
  "language_info": {
   "codemirror_mode": {
    "name": "ipython",
    "version": 3
   },
   "file_extension": ".py",
   "mimetype": "text/x-python",
   "name": "python",
   "nbconvert_exporter": "python",
   "pygments_lexer": "ipython3",
   "version": "3.11.5"
  }
 },
 "nbformat": 4,
 "nbformat_minor": 2
}
