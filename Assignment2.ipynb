{
 "cells": [
  {
   "cell_type": "code",
   "execution_count": 2,
   "metadata": {},
   "outputs": [],
   "source": [
    "import jax.numpy as jnp\n",
    "import numpy as np\n",
    "import math\n",
    "import matplotlib.pyplot as plt\n",
    "import seaborn as snb\n",
    "from scipy.special import gammaln\n",
    "from jax.scipy.special import beta as beta_func\n",
    "from scipy.stats import beta as beta_dist\n",
    "\n",
    "snb.set_theme(font_scale=1.25)"
   ]
  },
  {
   "cell_type": "markdown",
   "metadata": {},
   "source": [
    "## **Group 13**\n",
    "- **Mikkel Agerbo Essendrop, s194157**\n",
    "- **Anton Mosquera Storgaard, s214611**\n",
    "- **Gustav Hylsberg Jacobsen, s214374**\n",
    "\n",
    "All group members share equal responsibility for all three parts of this assignment. The work presented here represents a collective effort, and each member has contributed to understanding and completing the tasks.\n"
   ]
  },
  {
   "cell_type": "markdown",
   "metadata": {},
   "source": [
    "## Part 1: Gaussian process and covariance functions\n",
    "\n",
    "in this part, we will study covariance functions for Gaussian process models. We will consider the following 6 covariance functions.\n",
    "\n",
    "\\begin{align}\n",
    "k_1(x,x') &= 2 \\exp\\left(-\\frac{(x-x')^2}{2 \\cdot 0.3^2}\\right) \\\\\n",
    "k_2(x, x') &=  \\exp\\left(-\\frac{(x-x')^2}{2 \\cdot 0.1^2}\\right) \\\\\n",
    "k_3(x,x') &= 4 + 2xx' \\\\\n",
    "k_4(x,x') &= \\exp \\left(-2 \\sin (3 \\pi \\cdot \\vert x-x' \\vert )^2 \\right) \\\\\n",
    "k_5(x,x') &= \\exp \\left(-2 \\sin (3 \\pi \\cdot \\vert x-x' \\vert )^2 \\right) + 4xx' \\\\\n",
    "k_6(x,x') &= \\frac{1}{5} + \\min(x,x')\n",
    "\\end{align}\n",
    "\n",
    "$\\textbf{Task 1.1}$ Determine the analytical marginal prior mean and variance of a Gaussian process $f_i(x) \\sim \\mathcal{GP}(0,k_i(x,x'))$ \n",
    "\n",
    "This means computing the mean $\\mathbb{E}[f_i(x)]$ and variance $\\mathbb{V}[f_i(x)]$ for the six covariance functions.\n",
    "\n",
    "Since we know that the mean function $m(x)$ is 0 in all instances we see that carries through all the 6 different gaussian process. Lets now calculate the variance for them all. The variance is simply calculated in the case that $x' = x$ which we substitute in.\n"
   ]
  },
  {
   "cell_type": "markdown",
   "metadata": {},
   "source": []
  },
  {
   "cell_type": "markdown",
   "metadata": {},
   "source": []
  }
 ],
 "metadata": {
  "kernelspec": {
   "display_name": "venv",
   "language": "python",
   "name": "python3"
  },
  "language_info": {
   "codemirror_mode": {
    "name": "ipython",
    "version": 3
   },
   "file_extension": ".py",
   "mimetype": "text/x-python",
   "name": "python",
   "nbconvert_exporter": "python",
   "pygments_lexer": "ipython3",
   "version": "3.11.5"
  }
 },
 "nbformat": 4,
 "nbformat_minor": 2
}
