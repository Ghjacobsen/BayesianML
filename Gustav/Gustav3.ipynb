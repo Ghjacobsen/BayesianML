{
 "cells": [
  {
   "cell_type": "code",
   "execution_count": 1,
   "id": "23c9796e",
   "metadata": {},
   "outputs": [],
   "source": [
    "# Initialize task.\n",
    "import jax.numpy as jnp\n",
    "import numpy as np\n",
    "import matplotlib.pyplot as plt\n",
    "import seaborn as snb\n",
    "import matplotlib.colors as colors\n",
    "from scipy.stats import norm\n",
    "from scipy.optimize import minimize\n",
    "from jax import hessian\n",
    "\n",
    "snb.set_theme(font_scale=1.25)\n",
    "\n",
    "# Load Data\n",
    "\n",
    "data = jnp.load('./data_exercise5b.npz')\n",
    "X = data['day']\n",
    "y = np.log(data['bike_count'])\n",
    "\n",
    "#Standardize data\n",
    "ym, ys = jnp.mean(y), jnp.std(y)\n",
    "y = (y - ym) / ys"
   ]
  },
  {
   "cell_type": "markdown",
   "id": "a3f17b7b",
   "metadata": {},
   "source": [
    "$\\textbf{Part 1: Fully Bayesian inference for Gaussian process regression}$"
   ]
  },
  {
   "cell_type": "markdown",
   "id": "d6f4f926",
   "metadata": {},
   "source": []
  },
  {
   "cell_type": "markdown",
   "id": "b98ba6c2",
   "metadata": {},
   "source": [
    "$\\textbf{Task 1.1}$ Choose a value for $\\textit{v}$ such that the prior probability of observing a lengthscale larger than 100 is approximately $1\\%$\n",
    "\n",
    "We identify firs that our lengthscale parameter follows af half normal distribution given in \n",
    "\n",
    "\\begin{equation}\n",
    "    \\mathcal{l} \\sim \\mathcal{N}_+(0,v)\n",
    "\\end{equation}\n",
    "\n",
    "We now the condition we need to fulfill as\n",
    "\n",
    "\\begin{equation}\n",
    "    P(\\mathcal{l} > 100) \\approx 0.01\n",
    "\\end{equation}\n",
    "\n",
    "We can express our distribution of $l$ as $l = |\\sqrt{v} \\cdot Z|$ with $Z$ being a standard normal variable. This is because we now that $l$ is a half normal distributions. We can then insert this equation into our condition. We do some reductions and since we have that the standard normal distribution is symmetric we can view it as a two-tailed probability.\n",
    "\n",
    "\\begin{align}\n",
    "P(l > 100) = P(|\\sqrt{v} \\cdot Z| > 100) &\\approx 0.01 \\\\\n",
    "P(\\frac{|Z| > 100}{\\sqrt{v}}) &\\approx 0.01 \\hspace{2cm} \\text{Two-tailed} \\\\\n",
    "2 \\cdot P(\\frac{Z > 100}{ \\sqrt{v}}) &\\approx 0.01 \\\\\n",
    "P(\\frac{Z > 100}{ \\sqrt{v}}) &\\approx 0.005\n",
    "\n",
    "\\end{align}\n",
    "\n",
    "We now use the normal CDF value of z to find the z_value that satisfies this. We can either look up a table our use python."
   ]
  },
  {
   "cell_type": "code",
   "execution_count": 12,
   "id": "370516dd",
   "metadata": {},
   "outputs": [
    {
     "name": "stdout",
     "output_type": "stream",
     "text": [
      "z_value: 2.5758293035489004\n"
     ]
    }
   ],
   "source": [
    "z_value = norm.ppf(1-0.005)\n",
    "print(f\"z_value: {z_value}\")"
   ]
  },
  {
   "cell_type": "markdown",
   "id": "e4fff390",
   "metadata": {},
   "source": [
    "We can now solve the expression for v\n",
    "\n",
    "\\begin{align}\n",
    "    \\frac{100}{\\sqrt{v}} = z_{value} \\\\\n",
    "    v = \\left(\\frac{100}{z_{value}}\\right) ^2\n",
    "\\end{align}"
   ]
  },
  {
   "cell_type": "code",
   "execution_count": 14,
   "id": "bc5c4c9b",
   "metadata": {},
   "outputs": [
    {
     "name": "stdout",
     "output_type": "stream",
     "text": [
      "v: 1507.1824930113974\n"
     ]
    }
   ],
   "source": [
    "v = (100 / z_value) ** 2\n",
    "print(f\"v: {v}\")"
   ]
  },
  {
   "cell_type": "markdown",
   "id": "a79f17d5",
   "metadata": {},
   "source": [
    "So when $v \\approx 1507$ the probability of the lengthscale parameter being above 100 will be roughly 1%"
   ]
  }
 ],
 "metadata": {
  "kernelspec": {
   "display_name": "Python (MachineLearningProject)",
   "language": "python",
   "name": "machinelearningproject"
  },
  "language_info": {
   "codemirror_mode": {
    "name": "ipython",
    "version": 3
   },
   "file_extension": ".py",
   "mimetype": "text/x-python",
   "name": "python",
   "nbconvert_exporter": "python",
   "pygments_lexer": "ipython3",
   "version": "3.11.5"
  }
 },
 "nbformat": 4,
 "nbformat_minor": 5
}
