{
 "cells": [
  {
   "cell_type": "markdown",
   "metadata": {},
   "source": [
    "Part 2: "
   ]
  },
  {
   "cell_type": "markdown",
   "metadata": {},
   "source": [
    "In part 2 we will be working with Linear Gaussian systems.\n",
    "\n",
    "We let $z_1,z_2 \\in \\mathbb{R^2}$, and $y \\in \\mathbb{R}$ be random variables and we consider the following system\n",
    "\n",
    "\\begin{align}\n",
    "\n",
    "z_1 &\\sim \\mathcal{N}(0,vI) \\\\\n",
    "z_2 \\vert z_1 &\\sim \\mathcal{N}(z_1,vI) \\\\\n",
    "y \\vert z_2 &\\sim \\mathcal{N}(a^Tz_2,\\sigma^2)\n",
    "\n",
    "\\end{align}\n",
    "\n",
    "where $a \\in \\mathbb{R^2}$ is constant. The joint distribution of $(z_1, z_2, y)$ is given by\n",
    "\n",
    "\\begin{equation}\n",
    "p(y,z_1,z_2) = p(y \\vert z_2)p(z_2 \\vert z_1) p(z_1) \n",
    "\\end{equation}\n",
    "\n"
   ]
  },
  {
   "cell_type": "markdown",
   "metadata": {},
   "source": [
    "Lets try and put some words on the information provided here, for instance we can see that the distribution of $z_2|z_1$ is dependent on $z_1$, and that $z_1$ it self is independent\n",
    "\n",
    "y is conditionally independent on z_1 given z_2 (forstå), det er så snart z_2 er gevet så kender vi jo y uden at skulle bruge z_1\n",
    "\n",
    "Formuler mere om det her ^^\n"
   ]
  },
  {
   "cell_type": "markdown",
   "metadata": {},
   "source": [
    "$ \\textbf{Task 2.1}$ Determine the distribution $p(y)$\n",
    "\n",
    "We start by wanting to compute $p(z_2)$ first, this is because we want to utilise this equation\n",
    "\n",
    "\\begin{equation}\n",
    "\n",
    "p(y) = \\int p(y \\vert z_2) p(z_2)dz_2\n",
    "\n",
    "\\end{equation}\n"
   ]
  },
  {
   "cell_type": "markdown",
   "metadata": {},
   "source": [
    "We make use of both the Conditional rule and the Sum rule where we have the following \n",
    "\\begin{align} \n",
    "P(b) &= \\int p(a, b) da \\\\\n",
    "p(a \\vert b) &= \\frac{p(a, b)}{p(b)}\n",
    "\\end{align}\n",
    "\n",
    "This means that we can do this manipulation\n",
    "\n",
    "\\begin{align*}\n",
    "p(z_2 \\vert z_1) &= \\frac{p(z_2, z_1) }{p(z_2)} \\\\\n",
    "\n",
    "p(z_2, z_1) &= p(z_2 \\vert z_1) p(z_2)\n",
    "\n",
    "\\end{align*}\n",
    "\n",
    "This expression can be substitued into the sum rule, and now we want to marginalize out the $z_1$ factor so we are left with the $z_2$ distribution\n",
    "\n",
    "\\begin{equation*}\n",
    "p(z_2) = \\int p(z_2 | z_1) p(z_1) dz_1\n",
    "\\end{equation*}\n",
    "\n",
    "We now take advantage of the fact that the sum rule for gaussians simply entitle adding the two means and the two variances of the distribution (tjek)\n",
    "\n",
    "We remember the definiton of these distributions in (2) and (3), and we can then conclude our distribution for $z_2$ should follow this\n",
    "\n",
    "\\begin{equation}\n",
    "        p(z_2) \\sim \\mathcal{N}(0 + z_1, vI + vI) = \\mathcal{N}(z_1, 2vI) = \\mathcal{N}(0,2vI)\n",
    "\\end{equation}\n",
    "\n",
    "Here the mean is of course zero since we know the mean of z_1 is 0.\n",
    "\n",
    "Now we can determine equation (1), with the same procedure\n",
    "\n",
    "\\begin{align}\n",
    "    p(y)  &\\sim \\mathcal{N}(a^Tz_2 + 0, \\sigma^2 + 2vI) \\\\\n",
    "          &\\sim a^T \\cdot \\mathcal{N}(z_2, \\sigma^2 + 2vI) \\\\\n",
    "          &\\sim \\mathcal{N}(0, a^T \\sigma^2 + 2va^T)\n",
    "\\end{align}"
   ]
  },
  {
   "cell_type": "markdown",
   "metadata": {},
   "source": [
    "$\\textbf{Task 2.2 }$ Determine the distribution $p(y,z_2 | z_1)$\n",
    "\n",
    "We use the rules of conditional independence to determine this joint distribution. Lets start by using the chain rule of probability so we can rewrite\n",
    "\n",
    "\\begin{equation}\n",
    "\n",
    "p(y,z_2 | z_1) = p(y|z_2,z_1)p(z_2 \\vert z_1) \n",
    "\n",
    "\\end{equation}\n",
    "\n",
    "Here we see that when the distribution $p(z_2)$ is given or known then $y$ will be independent on $p(z_1)$, thus we can remove that part of the equation and we get the following\n",
    "\n",
    "\\begin{equation*}\n",
    "\n",
    "p(y|z_2,z_1) = p(y|z_2)\n",
    "\n",
    "\\end{equation*}\n",
    "\n",
    "This updates our expression for (1) and we get\n",
    "\n",
    "\\begin{equation}\n",
    "\n",
    "p(y,z_2 | z_1) = p(y|z_2)p(z_2 \\vert z_1) \n",
    "\n",
    "\\end{equation}\n",
    "\n",
    "When we multiply two gaussians we get a two-dimensional gaussian distribution, so our mean vector will consist of the means of $y$ and $z_2$, and our covariance matrix include the covariance between and the individual variances.\n",
    "\n",
    "\\begin{equation*}\n",
    "\n",
    "\\mathcal{N}(\\begin{bmatrix} Mean(y) \\\\ Mean(z_2) \\end{bmatrix} , \\begin{bmatrix} Var(y) & Cov(y,z_2) \\\\ Cov(y,z_2) & Var(z_2) \\end{bmatrix})\n",
    "\n",
    "\\end{equation*}\n",
    "\n",
    "Here we see that the only value we are missing in order to plug in our distribution is the covariance. Covariance between $y$ and $z_2$ is given by the following equation (forklar lige hvorfor man kan indsætte det der på y) og når vi trækker a^T ud hvorfor bliver transposering så på ledet?\n",
    "\n",
    "\n",
    "\\begin{align}\n",
    "\n",
    "Cov(y, z_2) &= \\mathbb{E}[(y-\\mathbb{E[y]})(z_2-\\mathbb{E}[z_2])^T] \\\\\n",
    "            &= \\mathbb{E}[(a^Tz_2-a^Tz_1)(z_2-z_1)^T] \\\\\n",
    "            &= a^T \\cdot \\mathbb{E}[(z_2 - z_1)(z_2-z_1)^T] \\\\\n",
    "            &= \n",
    "\\end{align}\n",
    "\n",
    "\n",
    "\n",
    "\n"
   ]
  },
  {
   "cell_type": "markdown",
   "metadata": {},
   "source": []
  },
  {
   "cell_type": "markdown",
   "metadata": {},
   "source": []
  }
 ],
 "metadata": {
  "kernelspec": {
   "display_name": "GustavPC",
   "language": "python",
   "name": "python3"
  },
  "language_info": {
   "codemirror_mode": {
    "name": "ipython",
    "version": 3
   },
   "file_extension": ".py",
   "mimetype": "text/x-python",
   "name": "python",
   "nbconvert_exporter": "python",
   "pygments_lexer": "ipython3",
   "version": "3.11.5"
  }
 },
 "nbformat": 4,
 "nbformat_minor": 2
}
