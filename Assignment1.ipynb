{
 "cells": [
  {
   "cell_type": "code",
   "execution_count": 13,
   "metadata": {},
   "outputs": [],
   "source": [
    "from scipy.stats import binom as binom_dist\n",
    "from scipy.stats import beta as beta_dist\n",
    "import numpy as np\n",
    "\n",
    "from matplotlib import pyplot as plt"
   ]
  },
  {
   "cell_type": "markdown",
   "metadata": {},
   "source": [
    "## **Group 13**\n",
    "- **Mikkel Agerbo Essendrop**\n",
    "- **Anton Mosquera Storgaard, s214611**\n",
    "- **Gustav Hylsberg Jacobsen, s214374**\n",
    "\n",
    "All group members share equal responsibility for all three parts of this assignment. The work presented here represents a collective effort, and each member has contributed to understanding and completing the tasks.\n"
   ]
  },
  {
   "cell_type": "markdown",
   "metadata": {},
   "source": [
    "$\\Huge \\textbf{Part 1:}$\n",
    "\n",
    "We record following data Customers: $N = 115$, Customers with purchase: $y = 4$, we want to deduce the probability that at least one of the next 20 Customers : $N^* = 20$ makes a purchase.\n",
    "\n",
    "We define the following distributions\n",
    "\n",
    "\\begin{align}\n",
    "\n",
    "\\theta &\\sim Beta(a_0,b_0) \\\\\n",
    "y \\vert \\theta &\\sim Binomial(N,\\theta)\n",
    "\n",
    "\\end{align}\n",
    "\n",
    "we now that $a_0 =  b_0 = 1$, so the prior is given as the $\\theta \\sim Uniform(0,1)$\n",
    "\n",
    "$\\textbf{Task 1.1}$ Compute the prior mean of $\\theta$ and provide a 95% credibilty interval for the prior:\n",
    "\n",
    "We could deduce that the prior is uniformly distributed where the mean is found by the following\n",
    "\\begin{equation*}\n",
    "\\mathbb{E}(\\theta) = \\frac{a}{a+b} = \\frac{1}{1+1} = \\frac{1}{2}\n",
    "\\end{equation*}\n",
    "\n",
    "When we are dealing with a uniform prior the credibility interval would simply quivalent to 95% of the possible outcomes within the distribution between 0 and 1 centered around the mean, thus the credibility interval becomes\n",
    "\n",
    "\\begin{equation*}\n",
    "(0.025, 0.975)\n",
    "\\end{equation*}\n",
    "\n",
    "$\\textbf{Task 1.2}$ Compute the posterior mean of $\\theta$ and provide a 95% credibility interval for the posterior\n",
    "\n",
    "We can start of by writing up our binomial likelihood PMF function\n",
    "\n",
    "\\begin{equation}\n",
    "p(y \\vert \\theta) = \\binom{115}{4}p^4(1-p)^{115-4}\n",
    "\\end{equation}\n",
    "\n",
    "We know that the Beta distribution is conjugate on the likelihood which means our posterior distribution will follow the same distribution as our prior.\n",
    "\n",
    "Our posterior is then given as \n",
    "\n",
    "\\begin{align}\n",
    "p(\\theta \\vert y, N) &= Beta(a + y, b + N - y) \\\\\n",
    "p(\\theta \\vert y, N) &= Beta(5,112)\n",
    "\\end{align}\n",
    "\n",
    "We find the mean in the same way we found the mean for the Beta distribution in Task 1.1\n",
    "\n",
    "\\begin{equation*}\n",
    " \\mathbb{E}(\\theta \\vert y, N) = \\frac{5}{5+112} = \\frac{5}{117} \\approx 0.043\n",
    "\\end{equation*}\n",
    "\n",
    "We use a snippet of the python code from handout 1 in order to determine the credibility interval\n",
    "\n"
   ]
  },
  {
   "cell_type": "code",
   "execution_count": 6,
   "metadata": {},
   "outputs": [
    {
     "name": "stdout",
     "output_type": "stream",
     "text": [
      "95%-credibility interval: [0.01-0.09]\n"
     ]
    }
   ],
   "source": [
    "theta_lower, theta_upper = beta_dist.interval(95/100, a=5, b=112)\n",
    "print(f'95%-credibility interval: [{theta_lower:3.2f}-{theta_upper:3.2f}]')"
   ]
  },
  {
   "cell_type": "markdown",
   "metadata": {},
   "source": [
    "$\\textbf{Task 1.3}$ Compute and plot the posterior predictive distribution for $y^*$ given $y = 4$\n",
    "\n",
    "We know that the posterior predictive distribution is given as\n",
    "\n",
    "\\begin{equation}\n",
    "p(y^* | y) = \\int p(y^* \\vert \\theta) p(\\theta \\vert y) d\\theta\n",
    "\\end{equation}\n",
    "\n",
    "We choose to sample different values of $\\theta$ from the posterior and then afterwards we sample new predictions $y^*$ from the posterior predictive using the different values of $\\theta$"
   ]
  },
  {
   "cell_type": "code",
   "execution_count": null,
   "metadata": {},
   "outputs": [
    {
     "data": {
      "image/png": "[encoded data removed]",
      "text/plain": [
       "<Figure size 640x480 with 1 Axes>"
      ]
     },
     "metadata": {},
     "output_type": "display_data"
    },
    {
     "data": {
      "text/plain": [
       "(np.float64(0.4459), np.float64(0.5541))"
      ]
     },
     "execution_count": 21,
     "metadata": {},
     "output_type": "execute_result"
    }
   ],
   "source": [
    "\n",
    "a, b = 5, 112  # Parameters of the posterior Beta distribution\n",
    "N_star = 20  # Future trials\n",
    "\n",
    "#We sample from the posterior distribution in order to visualize the posterior\n",
    "#predictive with the samples we get.\n",
    "theta_samples = np.random.beta(a, b, 10000)\n",
    "\n",
    "#Once we have the posterior samples we can sample from the binomial predictive distribution.\n",
    "y_star_samples = np.random.binomial(N_star, theta_samples)\n",
    "\n",
    "# Step 3: Compute and plot the posterior predictive distribution\n",
    "plt.hist(y_star_samples, bins=range(N_star+2), density=True, alpha=0.75, edgecolor='black')\n",
    "plt.xlabel(r'$y^*$ (Future successes)')\n",
    "plt.ylabel('Probability')\n",
    "plt.title(f'Posterior Predictive Distribution for $y^*$ (N* = {N_star})')\n",
    "plt.xticks(range(N_star+1))\n",
    "plt.grid(axis='y', linestyle='--', alpha=0.7)\n",
    "plt.show()\n"
   ]
  },
  {
   "cell_type": "markdown",
   "metadata": {},
   "source": [
    "$\\textbf{Task 1.4}$ What is the posterior predictive probability that at least one of the next $N^* = 20$ will make a purchase?\n",
    "\n",
    "We simply negate the question and says what is the probability that no customers made a purchase.\n",
    "\n",
    "\\begin{equation*}\n",
    "    p(y^* >= 1 | N^* = 20) = 1 - p(y^* = 0 | N^* = 20)\n",
    "\\end{equation*}\n",
    "\n"
   ]
  },
  {
   "cell_type": "code",
   "execution_count": 48,
   "metadata": {},
   "outputs": [
    {
     "name": "stdout",
     "output_type": "stream",
     "text": [
      "Probability of at least one future success: 0.5541\n"
     ]
    }
   ],
   "source": [
    "print(f'Probability of at least one future success: {1 - np.mean(y_star_samples == 0)}')"
   ]
  },
  {
   "cell_type": "markdown",
   "metadata": {},
   "source": [
    "This says the probability that at least one made a purchase is around 55.4%\n",
    "\n",
    "$\\textbf{1.5}$ Compute mean and variance of the posterior predictive distribution for $y^*$"
   ]
  },
  {
   "cell_type": "markdown",
   "metadata": {},
   "source": [
    "We know that the posterior predictive distribution is distributed as follows\n",
    "\n",
    "\\begin{equation*}\n",
    "p(y^*) \\sim BetaBinomial(N^*, a, b)\n",
    "\\end{equation*}\n",
    "\n",
    "where the mean and variance is given as \n",
    "\n",
    "\\begin{align}\n",
    "\\mathbb{E}(y^*) &= N^* \\frac{a}{a+b} \\\\\n",
    "\\sigma^2 &= N^* \\frac{ab(a+b+N^*)}{(a+b)^2(a+b+1)}\n",
    "\\end{align}\n",
    "\n",
    "We plugin our values\n",
    "\n",
    "\\begin{align}\n",
    "\\mathbb{E}(y^*) &= 20 \\cdot \\frac{5}{5+112} \\approx 0.85 \\\\\n",
    "\\sigma^2 &= 20 \\cdot \\frac{5 \\cdot 112(5+112+20)}{(5+112)^2(5+112+1)} \\approx 0.95\n",
    "\\end{align}\n",
    "\n",
    "We verify the results by taking the mean and variance of our sampled values."
   ]
  },
  {
   "cell_type": "code",
   "execution_count": 44,
   "metadata": {},
   "outputs": [
    {
     "name": "stdout",
     "output_type": "stream",
     "text": [
      "Mean of posterior predictive: 0.85\n",
      "Variance of posterior predictive: 0.93\n"
     ]
    }
   ],
   "source": [
    "print(f\"Mean of posterior predictive: {np.mean(y_star_samples):.2f}\")\n",
    "print(f\"Variance of posterior predictive: {np.var(y_star_samples):.2f}\")"
   ]
  },
  {
   "cell_type": "markdown",
   "metadata": {},
   "source": [
    "$\\Huge \\textbf{Part 2:}$\n",
    "\n",
    "In part 2 we will be working with Linear Gaussian systems.\n",
    "\n",
    "We let $z_1,z_2 \\in \\mathbb{R^2}$, and $y \\in \\mathbb{R}$ be random variables and we consider the following system\n",
    "\n",
    "\\begin{align}\n",
    "z_1 &\\sim \\mathcal{N}(0,vI) \\tag{1} \\\\\n",
    "z_2 \\vert z_1 &\\sim \\mathcal{N}(z_1,vI) \\tag{2} \\\\\n",
    "y \\vert z_2 &\\sim \\mathcal{N}(a^Tz_2,\\sigma^2) \\tag{3}\n",
    "\\end{align}\n",
    "\n",
    "where $a \\in \\mathbb{R^2}$ is constant. The joint distribution of $(z_1, z_2, y)$ is given by\n",
    "\n",
    "\\begin{equation}\n",
    "p(y,z_1,z_2) = p(y \\vert z_2)p(z_2 \\vert z_1) p(z_1) \\tag{4}\n",
    "\\end{equation}\n",
    "\n",
    "Let's try and put some words on the information provided here. For instance, we can see that the distribution of $z_2|z_1$ is conditionally dependent on $z_1$.\n",
    "\n",
    "We also see that $y$ must be conditionally independent of $z_1$ since if $z_2$ is known, then $z_1$ is not needed, and thus we have independence. This allows us to write:\n",
    "\n",
    "\\begin{equation}\n",
    "p(y \\vert z_1,z_2) = p(y | z_2) \\tag{5}\n",
    "\\end{equation}\n",
    "\n",
    "$\\textbf{Task 2.1}$ Determine the distribution $p(y)$.\n",
    "\n",
    "We start by wanting to compute $p(z_2)$ first, as this allows us to use the following equation:\n",
    "\n",
    "\\begin{equation}\n",
    "p(y) = \\int p(y \\vert z_2) p(z_2)dz_2 \\tag{6}\n",
    "\\end{equation}\n",
    "\n",
    "We make use of both the Conditional rule and the Sum rule where we have the following \n",
    "\\begin{align} \n",
    "P(b) &= \\int p(a, b)da  \\hspace{1cm}\n",
    "p(a \\vert b) &= \\frac{p(a, b)}{p(b)} \\tag{7}\n",
    "\\end{align}\n",
    "\n",
    "This means that we can do this manipulation\n",
    "\n",
    "\\begin{align*}\n",
    "p(z_2 \\vert z_1) &= \\frac{p(z_2, z_1) }{p(z_1)} \\hspace{1cm}\n",
    "p(z_2, z_1) = p(z_2 \\vert z_1) p(z_1) \\tag{8}\n",
    "\n",
    "\\end{align*}\n",
    "\n",
    "This expression can be substitued into the sum rule, and now we want to marginalize out the $z_1$ factor so we are left with the $z_2$ distribution\n",
    "\n",
    "\\begin{equation*}\n",
    "p(z_2) = \\int p(z_2 | z_1) p(z_1) dz_1 \\tag{9}\n",
    "\\end{equation*}\n",
    "\n",
    "Once we are here we can utilize the equations for bayes rules for gaussian given in Murphy (3.37)\n",
    "\n",
    "\\begin{align*}\n",
    "        p(z_2) &\\sim \\mathcal{N}(0 + z_1, vI + vI) \\\\ &\\sim \\mathcal{N}(z_1, 2vI) \\\\ &\\sim  \\mathcal{N}(0,2vI) \\tag{10}\n",
    "\\end{align*}\n",
    "\n",
    "We now complete our equation for $p(y)$ and marginalize out $z_2$ this time, we follow the same steps as previously.\n",
    "\n",
    "\n",
    "\\begin{align*}\n",
    "    p(y)  &\\sim \\mathcal{N}(a^Tz_2 + 0, \\sigma^2 + 2vI) \\\\\n",
    "          &\\sim a^T \\cdot \\mathcal{N}(z_2, \\sigma^2 + 2vI) \\\\\n",
    "          &\\sim \\mathcal{N}(0, a^T \\sigma^2 + 2va^T) \\tag{11}\n",
    "\\end{align*}\n",
    "\n",
    "$\\textbf{Task 2.2 }$ Determine the distribution $p(y,z_2 | z_1)$\n",
    "\n",
    "We use the rules of conditional independence to determine this joint distribution. Lets start by using the chain rule of probability so we can rewrite\n",
    "\n",
    "\\begin{equation*}\n",
    "\n",
    "p(y,z_2 | z_1) = p(y|z_2,z_1)p(z_2 \\vert z_1) \\tag{12}\n",
    "\n",
    "\\end{equation*}\n",
    "\n",
    "We remember our deducition in equation (5) and our expression becomes\n",
    "\n",
    "\\begin{equation*}\n",
    "\n",
    "p(y,z_2 | z_1) = p(y|z_2)p(z_2 | z_1) \\tag{13}\n",
    "\n",
    "\\end{equation*}\n",
    "\n",
    "When we multiply two gaussians we get a two-dimensional gaussian distribution, so our mean vector will consist of the means of $y$ and $z_2$, and our covariance matrix include the covariance between and the individual variances.\n",
    "\n",
    "\\begin{equation*}\n",
    "\n",
    "\\mathcal{N} \\left(\\begin{bmatrix} \\mathbb{E}(y | z_1) \\\\ \\mathbb{E}(z_2) \\end{bmatrix} , \\begin{bmatrix} \\sigma^2(y|z_1) & \\Sigma(y,z_2) \\\\ \\Sigma(y,z_2) & \\sigma^2(z_2|z_1) \\end{bmatrix} \\right) \\tag{14}\n",
    "\n",
    "\\end{equation*}\n",
    "\n",
    "Here we see that the only value we are missing in order to plug in our distribution is the covariance. Covariance between $y$ and $z_2$ is given by the following equation \n",
    "\n",
    "\\begin{align*}\n",
    "\n",
    "\\Sigma(y, z_2) &= \\mathbb{E}[(y-\\mathbb{E}[y | z_1])(z_2-\\mathbb{E}[z_2  \\vert z_1])^T] \\\\\n",
    "            &= \\mathbb{E}[(a^Tz_2-a^Tz_1)(z_2-z_1)^T] \\\\\n",
    "            &= a^T \\cdot \\mathbb{E}[(z_2 - z_1)(z_2-z_1)^T] \\\\\n",
    "            &= a^T \\cdot vI \\\\\n",
    "            &= va^T \\tag{15}\n",
    "\\end{align*}\n",
    "\n",
    "Lets quickly explain some intuition behind step 2 and three in equation (15). We know that from our model that $y = a^Tz_2$, so when we take the expected value we get \n",
    "\\begin{equation*}\n",
    "\\mathbb{E}(y | z_1) = \\mathbb{E}(a^Tz_2) = a^T\\mathbb{E}(z_2) = a^Tz_1 \\tag{16}\n",
    "\\end{equation*}\n",
    "\n",
    "We also take advantage of the fact that $z_2 - z_1$ follow a gaussian noise model with variance $vI$ so we can substitue that in. The uncertainties added in these steps offset each other due to difference in signs. Our final distribution becomes\n",
    "\n",
    "\\begin{equation*}\n",
    "\n",
    "p(y, z_2 | z_1) \\sim \\mathcal{N} \\left(\\begin{bmatrix} a^Tz_1 \\\\ z_1 \\end{bmatrix} , \\begin{bmatrix} va^Ta + \\sigma^2 & va^T \\\\ va & vI \\end{bmatrix} \\right) \\tag{17}\n",
    "\n",
    "\\end{equation*}\n",
    "\n",
    "where the covariance term has to be symmetric so we remove the transpose in the left corner.\n",
    "\n",
    "$\\textbf{Task 2.3}$ Determine the distribution $p(y \\vert z_1)$\n",
    "\n",
    "We have actually already found the distribution, the mean and variance can be extracted from the distribution we just described, by looking at the mean and variance in the vector and matrix.\n",
    "\n",
    "\\begin{equation*}\n",
    "p(y | z_1) \\sim \\mathcal{N} (a^Tz_1, \\sigma^2 + va^Ta) \\tag{18}\n",
    "\\end{equation*}\n",
    "\n",
    "$\\textbf{Task 2.4}$ Determine the distribution $p(z_1 \\vert y)$\n",
    "\n",
    "Lets start by writing up bayes theorem for this distribution given as \n",
    "\n",
    "\\begin{equation*}\n",
    "    p(z_1 | y) = \\frac{p(y|z_1)p(z_1)}{p(y)} \\tag{19}\n",
    "\\end{equation*}\n",
    "\n",
    "We again use the equations described in Murphy and we see that for the gaussian linear models posterior distribution described as\n",
    "\n",
    "\\begin{equation*}\n",
    "    p(z_1 | y) \\sim \\mathcal{N}(\\mu_{z_1 | y}, \\Sigma_{z_1|y}) \\tag{20}\n",
    "\\end{equation*}\n",
    "\n",
    "We have the following \n",
    "\n",
    "\\begin{equation}\n",
    "\\Sigma_{z | y}^{-1} = \\Sigma_z^{-1} + \\mathbf{W}^T \\Sigma_y^{-1} \\mathbf{W} \\tag{21}\n",
    "\\end{equation}\n",
    "\n",
    "\\begin{equation}\n",
    "\\mu_{z | y} = \\Sigma_{z | y} \\left[ \\mathbf{W}^T \\Sigma_y^{-1} (y - b) + \\Sigma_z^{-1} \\mu_z \\right] \\tag{22}\n",
    "\\end{equation}\n",
    "\n",
    "We now have to substitue in our know values in these expressions, we start by substituting in our terms for the variance and we end up with\n",
    "\n",
    "\\begin{align*}\n",
    "\\Sigma_{z_1 | y}^{-1} &= (vI)^{-1} + a^T (v a^T a + \\sigma^2)^{-1} a, \\\\\n",
    "&= \\frac{1}{v} I + \\frac{a a^T}{v a^T a + \\sigma^2}. \\tag{23}\n",
    "\\end{align*}\n",
    "\n",
    "We flip the exponent so we get\n",
    "\n",
    "\\begin{equation*}\n",
    "\\Sigma_{z_1 | y} = \\left( \\frac{1}{v} I + \\frac{a a^T}{v a^T a + \\sigma^2} \\right)^{-1}. \\tag{24}\n",
    "\\end{equation*}\n",
    "\n",
    "After having found this term we can now substitue our values into the expression for the mean given in equation (22)\n",
    "\n",
    "\\begin{align*}\n",
    "\\mu_{z_1 | y} &= \\Sigma_{z_1 | y} \\left[ a^T (v a^T a + \\sigma^2)^{-1} y + (vI)^{-1} \\cdot 0 \\right] \\\\\n",
    "&= \\Sigma_{z_1 | y} \\left( \\frac{a}{v a^T a + \\sigma^2} y \\right) \\tag{25}\n",
    "\\end{align*}\n",
    "\n",
    "Leaving us with a final distribution given as\n",
    "\n",
    "\\begin{equation}\n",
    "p(z_1 | y) \\sim \\mathcal{N} \\left( \\frac{v a}{v a^T a + \\sigma^2} y, \\left( \\frac{1}{v} I + \\frac{a a^T}{v a^T a + \\sigma^2} \\right)^{-1} \\right). \\tag{26}\n",
    "\\end{equation}\n",
    "\n"
   ]
  },
  {
   "cell_type": "markdown",
   "metadata": {},
   "source": [
    "$\\Huge \\textbf{Part 3:}$\n",
    "\n",
    "In part 3 we will be working with conjugate models."
   ]
  }
 ],
 "metadata": {
  "kernelspec": {
   "display_name": "venv",
   "language": "python",
   "name": "python3"
  },
  "language_info": {
   "codemirror_mode": {
    "name": "ipython",
    "version": 3
   },
   "file_extension": ".py",
   "mimetype": "text/x-python",
   "name": "python",
   "nbconvert_exporter": "python",
   "pygments_lexer": "ipython3",
   "version": "3.11.5"
  }
 },
 "nbformat": 4,
 "nbformat_minor": 2
}
